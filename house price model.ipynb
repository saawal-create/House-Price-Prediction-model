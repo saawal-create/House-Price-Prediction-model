{
 "cells": [
  {
   "cell_type": "code",
   "execution_count": 11,
   "id": "ffba41dd",
   "metadata": {},
   "outputs": [],
   "source": [
    "import pandas as pd"
   ]
  },
  {
   "cell_type": "code",
   "execution_count": 12,
   "id": "090c0a67",
   "metadata": {},
   "outputs": [],
   "source": [
    "dataset= pd.read_csv(\"House Price India.csv\")"
   ]
  },
  {
   "cell_type": "code",
   "execution_count": 13,
   "id": "93d553f2",
   "metadata": {
    "scrolled": true
   },
   "outputs": [
    {
     "data": {
      "text/html": [
       "<div>\n",
       "<style scoped>\n",
       "    .dataframe tbody tr th:only-of-type {\n",
       "        vertical-align: middle;\n",
       "    }\n",
       "\n",
       "    .dataframe tbody tr th {\n",
       "        vertical-align: top;\n",
       "    }\n",
       "\n",
       "    .dataframe thead th {\n",
       "        text-align: right;\n",
       "    }\n",
       "</style>\n",
       "<table border=\"1\" class=\"dataframe\">\n",
       "  <thead>\n",
       "    <tr style=\"text-align: right;\">\n",
       "      <th></th>\n",
       "      <th>id</th>\n",
       "      <th>Date</th>\n",
       "      <th>number of bedrooms</th>\n",
       "      <th>number of bathrooms</th>\n",
       "      <th>living area</th>\n",
       "      <th>lot area</th>\n",
       "      <th>number of floors</th>\n",
       "      <th>waterfront present</th>\n",
       "      <th>number of views</th>\n",
       "      <th>condition of the house</th>\n",
       "      <th>...</th>\n",
       "      <th>Built Year</th>\n",
       "      <th>Renovation Year</th>\n",
       "      <th>Postal Code</th>\n",
       "      <th>Lattitude</th>\n",
       "      <th>Longitude</th>\n",
       "      <th>living_area_renov</th>\n",
       "      <th>lot_area_renov</th>\n",
       "      <th>Number of schools nearby</th>\n",
       "      <th>Distance from the airport</th>\n",
       "      <th>Price</th>\n",
       "    </tr>\n",
       "  </thead>\n",
       "  <tbody>\n",
       "    <tr>\n",
       "      <th>0</th>\n",
       "      <td>6762810145</td>\n",
       "      <td>42491</td>\n",
       "      <td>5</td>\n",
       "      <td>2.50</td>\n",
       "      <td>3650</td>\n",
       "      <td>9050</td>\n",
       "      <td>2.0</td>\n",
       "      <td>0</td>\n",
       "      <td>4</td>\n",
       "      <td>5</td>\n",
       "      <td>...</td>\n",
       "      <td>1921</td>\n",
       "      <td>0</td>\n",
       "      <td>122003</td>\n",
       "      <td>52.8645</td>\n",
       "      <td>-114.557</td>\n",
       "      <td>2880</td>\n",
       "      <td>5400</td>\n",
       "      <td>2</td>\n",
       "      <td>58</td>\n",
       "      <td>2380000</td>\n",
       "    </tr>\n",
       "    <tr>\n",
       "      <th>1</th>\n",
       "      <td>6762810635</td>\n",
       "      <td>42491</td>\n",
       "      <td>4</td>\n",
       "      <td>2.50</td>\n",
       "      <td>2920</td>\n",
       "      <td>4000</td>\n",
       "      <td>1.5</td>\n",
       "      <td>0</td>\n",
       "      <td>0</td>\n",
       "      <td>5</td>\n",
       "      <td>...</td>\n",
       "      <td>1909</td>\n",
       "      <td>0</td>\n",
       "      <td>122004</td>\n",
       "      <td>52.8878</td>\n",
       "      <td>-114.470</td>\n",
       "      <td>2470</td>\n",
       "      <td>4000</td>\n",
       "      <td>2</td>\n",
       "      <td>51</td>\n",
       "      <td>1400000</td>\n",
       "    </tr>\n",
       "    <tr>\n",
       "      <th>2</th>\n",
       "      <td>6762810998</td>\n",
       "      <td>42491</td>\n",
       "      <td>5</td>\n",
       "      <td>2.75</td>\n",
       "      <td>2910</td>\n",
       "      <td>9480</td>\n",
       "      <td>1.5</td>\n",
       "      <td>0</td>\n",
       "      <td>0</td>\n",
       "      <td>3</td>\n",
       "      <td>...</td>\n",
       "      <td>1939</td>\n",
       "      <td>0</td>\n",
       "      <td>122004</td>\n",
       "      <td>52.8852</td>\n",
       "      <td>-114.468</td>\n",
       "      <td>2940</td>\n",
       "      <td>6600</td>\n",
       "      <td>1</td>\n",
       "      <td>53</td>\n",
       "      <td>1200000</td>\n",
       "    </tr>\n",
       "    <tr>\n",
       "      <th>3</th>\n",
       "      <td>6762812605</td>\n",
       "      <td>42491</td>\n",
       "      <td>4</td>\n",
       "      <td>2.50</td>\n",
       "      <td>3310</td>\n",
       "      <td>42998</td>\n",
       "      <td>2.0</td>\n",
       "      <td>0</td>\n",
       "      <td>0</td>\n",
       "      <td>3</td>\n",
       "      <td>...</td>\n",
       "      <td>2001</td>\n",
       "      <td>0</td>\n",
       "      <td>122005</td>\n",
       "      <td>52.9532</td>\n",
       "      <td>-114.321</td>\n",
       "      <td>3350</td>\n",
       "      <td>42847</td>\n",
       "      <td>3</td>\n",
       "      <td>76</td>\n",
       "      <td>838000</td>\n",
       "    </tr>\n",
       "    <tr>\n",
       "      <th>4</th>\n",
       "      <td>6762812919</td>\n",
       "      <td>42491</td>\n",
       "      <td>3</td>\n",
       "      <td>2.00</td>\n",
       "      <td>2710</td>\n",
       "      <td>4500</td>\n",
       "      <td>1.5</td>\n",
       "      <td>0</td>\n",
       "      <td>0</td>\n",
       "      <td>4</td>\n",
       "      <td>...</td>\n",
       "      <td>1929</td>\n",
       "      <td>0</td>\n",
       "      <td>122006</td>\n",
       "      <td>52.9047</td>\n",
       "      <td>-114.485</td>\n",
       "      <td>2060</td>\n",
       "      <td>4500</td>\n",
       "      <td>1</td>\n",
       "      <td>51</td>\n",
       "      <td>805000</td>\n",
       "    </tr>\n",
       "    <tr>\n",
       "      <th>...</th>\n",
       "      <td>...</td>\n",
       "      <td>...</td>\n",
       "      <td>...</td>\n",
       "      <td>...</td>\n",
       "      <td>...</td>\n",
       "      <td>...</td>\n",
       "      <td>...</td>\n",
       "      <td>...</td>\n",
       "      <td>...</td>\n",
       "      <td>...</td>\n",
       "      <td>...</td>\n",
       "      <td>...</td>\n",
       "      <td>...</td>\n",
       "      <td>...</td>\n",
       "      <td>...</td>\n",
       "      <td>...</td>\n",
       "      <td>...</td>\n",
       "      <td>...</td>\n",
       "      <td>...</td>\n",
       "      <td>...</td>\n",
       "      <td>...</td>\n",
       "    </tr>\n",
       "    <tr>\n",
       "      <th>14615</th>\n",
       "      <td>6762830250</td>\n",
       "      <td>42734</td>\n",
       "      <td>2</td>\n",
       "      <td>1.50</td>\n",
       "      <td>1556</td>\n",
       "      <td>20000</td>\n",
       "      <td>1.0</td>\n",
       "      <td>0</td>\n",
       "      <td>0</td>\n",
       "      <td>4</td>\n",
       "      <td>...</td>\n",
       "      <td>1957</td>\n",
       "      <td>0</td>\n",
       "      <td>122066</td>\n",
       "      <td>52.6191</td>\n",
       "      <td>-114.472</td>\n",
       "      <td>2250</td>\n",
       "      <td>17286</td>\n",
       "      <td>3</td>\n",
       "      <td>76</td>\n",
       "      <td>221700</td>\n",
       "    </tr>\n",
       "    <tr>\n",
       "      <th>14616</th>\n",
       "      <td>6762830339</td>\n",
       "      <td>42734</td>\n",
       "      <td>3</td>\n",
       "      <td>2.00</td>\n",
       "      <td>1680</td>\n",
       "      <td>7000</td>\n",
       "      <td>1.5</td>\n",
       "      <td>0</td>\n",
       "      <td>0</td>\n",
       "      <td>4</td>\n",
       "      <td>...</td>\n",
       "      <td>1968</td>\n",
       "      <td>0</td>\n",
       "      <td>122072</td>\n",
       "      <td>52.5075</td>\n",
       "      <td>-114.393</td>\n",
       "      <td>1540</td>\n",
       "      <td>7480</td>\n",
       "      <td>3</td>\n",
       "      <td>59</td>\n",
       "      <td>219200</td>\n",
       "    </tr>\n",
       "    <tr>\n",
       "      <th>14617</th>\n",
       "      <td>6762830618</td>\n",
       "      <td>42734</td>\n",
       "      <td>2</td>\n",
       "      <td>1.00</td>\n",
       "      <td>1070</td>\n",
       "      <td>6120</td>\n",
       "      <td>1.0</td>\n",
       "      <td>0</td>\n",
       "      <td>0</td>\n",
       "      <td>3</td>\n",
       "      <td>...</td>\n",
       "      <td>1962</td>\n",
       "      <td>0</td>\n",
       "      <td>122056</td>\n",
       "      <td>52.7289</td>\n",
       "      <td>-114.507</td>\n",
       "      <td>1130</td>\n",
       "      <td>6120</td>\n",
       "      <td>2</td>\n",
       "      <td>64</td>\n",
       "      <td>209000</td>\n",
       "    </tr>\n",
       "    <tr>\n",
       "      <th>14618</th>\n",
       "      <td>6762830709</td>\n",
       "      <td>42734</td>\n",
       "      <td>4</td>\n",
       "      <td>1.00</td>\n",
       "      <td>1030</td>\n",
       "      <td>6621</td>\n",
       "      <td>1.0</td>\n",
       "      <td>0</td>\n",
       "      <td>0</td>\n",
       "      <td>4</td>\n",
       "      <td>...</td>\n",
       "      <td>1955</td>\n",
       "      <td>0</td>\n",
       "      <td>122042</td>\n",
       "      <td>52.7157</td>\n",
       "      <td>-114.411</td>\n",
       "      <td>1420</td>\n",
       "      <td>6631</td>\n",
       "      <td>3</td>\n",
       "      <td>54</td>\n",
       "      <td>205000</td>\n",
       "    </tr>\n",
       "    <tr>\n",
       "      <th>14619</th>\n",
       "      <td>6762831463</td>\n",
       "      <td>42734</td>\n",
       "      <td>3</td>\n",
       "      <td>1.00</td>\n",
       "      <td>900</td>\n",
       "      <td>4770</td>\n",
       "      <td>1.0</td>\n",
       "      <td>0</td>\n",
       "      <td>0</td>\n",
       "      <td>3</td>\n",
       "      <td>...</td>\n",
       "      <td>1969</td>\n",
       "      <td>2009</td>\n",
       "      <td>122018</td>\n",
       "      <td>52.5338</td>\n",
       "      <td>-114.552</td>\n",
       "      <td>900</td>\n",
       "      <td>3480</td>\n",
       "      <td>2</td>\n",
       "      <td>55</td>\n",
       "      <td>146000</td>\n",
       "    </tr>\n",
       "  </tbody>\n",
       "</table>\n",
       "<p>14620 rows × 23 columns</p>\n",
       "</div>"
      ],
      "text/plain": [
       "               id   Date  number of bedrooms  number of bathrooms   \n",
       "0      6762810145  42491                   5                 2.50  \\\n",
       "1      6762810635  42491                   4                 2.50   \n",
       "2      6762810998  42491                   5                 2.75   \n",
       "3      6762812605  42491                   4                 2.50   \n",
       "4      6762812919  42491                   3                 2.00   \n",
       "...           ...    ...                 ...                  ...   \n",
       "14615  6762830250  42734                   2                 1.50   \n",
       "14616  6762830339  42734                   3                 2.00   \n",
       "14617  6762830618  42734                   2                 1.00   \n",
       "14618  6762830709  42734                   4                 1.00   \n",
       "14619  6762831463  42734                   3                 1.00   \n",
       "\n",
       "       living area  lot area  number of floors  waterfront present   \n",
       "0             3650      9050               2.0                   0  \\\n",
       "1             2920      4000               1.5                   0   \n",
       "2             2910      9480               1.5                   0   \n",
       "3             3310     42998               2.0                   0   \n",
       "4             2710      4500               1.5                   0   \n",
       "...            ...       ...               ...                 ...   \n",
       "14615         1556     20000               1.0                   0   \n",
       "14616         1680      7000               1.5                   0   \n",
       "14617         1070      6120               1.0                   0   \n",
       "14618         1030      6621               1.0                   0   \n",
       "14619          900      4770               1.0                   0   \n",
       "\n",
       "       number of views  condition of the house  ...  Built Year   \n",
       "0                    4                       5  ...        1921  \\\n",
       "1                    0                       5  ...        1909   \n",
       "2                    0                       3  ...        1939   \n",
       "3                    0                       3  ...        2001   \n",
       "4                    0                       4  ...        1929   \n",
       "...                ...                     ...  ...         ...   \n",
       "14615                0                       4  ...        1957   \n",
       "14616                0                       4  ...        1968   \n",
       "14617                0                       3  ...        1962   \n",
       "14618                0                       4  ...        1955   \n",
       "14619                0                       3  ...        1969   \n",
       "\n",
       "       Renovation Year  Postal Code  Lattitude  Longitude  living_area_renov   \n",
       "0                    0       122003    52.8645   -114.557               2880  \\\n",
       "1                    0       122004    52.8878   -114.470               2470   \n",
       "2                    0       122004    52.8852   -114.468               2940   \n",
       "3                    0       122005    52.9532   -114.321               3350   \n",
       "4                    0       122006    52.9047   -114.485               2060   \n",
       "...                ...          ...        ...        ...                ...   \n",
       "14615                0       122066    52.6191   -114.472               2250   \n",
       "14616                0       122072    52.5075   -114.393               1540   \n",
       "14617                0       122056    52.7289   -114.507               1130   \n",
       "14618                0       122042    52.7157   -114.411               1420   \n",
       "14619             2009       122018    52.5338   -114.552                900   \n",
       "\n",
       "       lot_area_renov  Number of schools nearby  Distance from the airport   \n",
       "0                5400                         2                         58  \\\n",
       "1                4000                         2                         51   \n",
       "2                6600                         1                         53   \n",
       "3               42847                         3                         76   \n",
       "4                4500                         1                         51   \n",
       "...               ...                       ...                        ...   \n",
       "14615           17286                         3                         76   \n",
       "14616            7480                         3                         59   \n",
       "14617            6120                         2                         64   \n",
       "14618            6631                         3                         54   \n",
       "14619            3480                         2                         55   \n",
       "\n",
       "         Price  \n",
       "0      2380000  \n",
       "1      1400000  \n",
       "2      1200000  \n",
       "3       838000  \n",
       "4       805000  \n",
       "...        ...  \n",
       "14615   221700  \n",
       "14616   219200  \n",
       "14617   209000  \n",
       "14618   205000  \n",
       "14619   146000  \n",
       "\n",
       "[14620 rows x 23 columns]"
      ]
     },
     "execution_count": 13,
     "metadata": {},
     "output_type": "execute_result"
    }
   ],
   "source": [
    "dataset\n"
   ]
  },
  {
   "cell_type": "code",
   "execution_count": 14,
   "id": "41af71ed",
   "metadata": {
    "scrolled": false
   },
   "outputs": [
    {
     "data": {
      "text/plain": [
       "id                                      -0.773114\n",
       "Date                                    -0.027919\n",
       "number of bedrooms                       0.308460\n",
       "number of bathrooms                      0.531735\n",
       "living area                              0.712169\n",
       "lot area                                 0.081992\n",
       "number of floors                         0.262732\n",
       "waterfront present                       0.263687\n",
       "number of views                          0.395973\n",
       "condition of the house                   0.041376\n",
       "grade of the house                       0.671814\n",
       "Area of the house(excluding basement)    0.615220\n",
       "Area of the basement                     0.330202\n",
       "Built Year                               0.050307\n",
       "Renovation Year                          0.133173\n",
       "Postal Code                             -0.115908\n",
       "Lattitude                                0.297490\n",
       "Longitude                                0.024414\n",
       "living_area_renov                        0.584924\n",
       "lot_area_renov                           0.075535\n",
       "Number of schools nearby                 0.009890\n",
       "Distance from the airport                0.003804\n",
       "Price                                    1.000000\n",
       "Name: Price, dtype: float64"
      ]
     },
     "execution_count": 14,
     "metadata": {},
     "output_type": "execute_result"
    }
   ],
   "source": [
    "dataset.corr()[\"Price\"]   \n",
    "\n",
    "#checking the highest correlation between the price and the data(bigger the value to 0 , bigger the correlation)"
   ]
  },
  {
   "cell_type": "code",
   "execution_count": 15,
   "id": "cf02a22e",
   "metadata": {},
   "outputs": [],
   "source": [
    " dataset = dataset[[\"id\" ,\"Date\",\"living area\",\"grade of the house\",\"Area of the house(excluding basement)\",\"living_area_renov\",\"number of bathrooms\",\"Price\",\"number of views\"]] "
   ]
  },
  {
   "cell_type": "code",
   "execution_count": 16,
   "id": "25d835fd",
   "metadata": {},
   "outputs": [
    {
     "data": {
      "text/plain": [
       "id                                      -0.773114\n",
       "Date                                    -0.027919\n",
       "living area                              0.712169\n",
       "grade of the house                       0.671814\n",
       "Area of the house(excluding basement)    0.615220\n",
       "living_area_renov                        0.584924\n",
       "number of bathrooms                      0.531735\n",
       "Price                                    1.000000\n",
       "number of views                          0.395973\n",
       "Name: Price, dtype: float64"
      ]
     },
     "execution_count": 16,
     "metadata": {},
     "output_type": "execute_result"
    }
   ],
   "source": [
    "dataset.corr()[\"Price\"]"
   ]
  },
  {
   "cell_type": "code",
   "execution_count": 17,
   "id": "8909d20d",
   "metadata": {},
   "outputs": [],
   "source": [
    "import seaborn as sns"
   ]
  },
  {
   "cell_type": "code",
   "execution_count": 18,
   "id": "db450850",
   "metadata": {},
   "outputs": [
    {
     "data": {
      "text/plain": [
       "<seaborn.axisgrid.FacetGrid at 0x259733a8d90>"
      ]
     },
     "execution_count": 18,
     "metadata": {},
     "output_type": "execute_result"
    },
    {
     "data": {
      "image/png": "[encoded data removed]",
      "text/plain": [
       "<Figure size 500x500 with 1 Axes>"
      ]
     },
     "metadata": {},
     "output_type": "display_data"
    }
   ],
   "source": [
    "sns.lmplot(x=\"grade of the house\", y=\"Price\", data=dataset,fit_reg= True,ci=None)"
   ]
  },
  {
   "cell_type": "code",
   "execution_count": 19,
   "id": "5b4cecfd",
   "metadata": {},
   "outputs": [
    {
     "data": {
      "text/plain": [
       "<seaborn.axisgrid.FacetGrid at 0x259734447d0>"
      ]
     },
     "execution_count": 19,
     "metadata": {},
     "output_type": "execute_result"
    },
    {
     "data": {
      "image/png": "[encoded data removed]",
      "text/plain": [
       "<Figure size 500x500 with 1 Axes>"
      ]
     },
     "metadata": {},
     "output_type": "display_data"
    }
   ],
   "source": [
    "sns.lmplot(x=\"number of bathrooms\", y=\"Price\", data=dataset,fit_reg= True,ci=None)"
   ]
  },
  {
   "cell_type": "code",
   "execution_count": 20,
   "id": "830a2f6e",
   "metadata": {},
   "outputs": [
    {
     "data": {
      "text/plain": [
       "<Axes: ylabel='Frequency'>"
      ]
     },
     "execution_count": 20,
     "metadata": {},
     "output_type": "execute_result"
    },
    {
     "data": {
      "image/png": "[encoded data removed]",
      "text/plain": [
       "<Figure size 640x480 with 1 Axes>"
      ]
     },
     "metadata": {},
     "output_type": "display_data"
    }
   ],
   "source": [
    "dataset.plot.hist(y=\"Price\")"
   ]
  },
  {
   "cell_type": "code",
   "execution_count": 21,
   "id": "b2d4172a",
   "metadata": {},
   "outputs": [
    {
     "data": {
      "text/plain": [
       "<seaborn.axisgrid.FacetGrid at 0x259736893d0>"
      ]
     },
     "execution_count": 21,
     "metadata": {},
     "output_type": "execute_result"
    },
    {
     "data": {
      "image/png": "[encoded data removed]",
      "text/plain": [
       "<Figure size 500x500 with 1 Axes>"
      ]
     },
     "metadata": {},
     "output_type": "display_data"
    }
   ],
   "source": [
    "sns.lmplot(x=\"living_area_renov\", y=\"Price\", data=dataset,fit_reg= True,ci=None)"
   ]
  },
  {
   "cell_type": "code",
   "execution_count": 22,
   "id": "8a797eb0",
   "metadata": {},
   "outputs": [],
   "source": [
    "# dataset[dataset.isnull().any(axis=1)]\n",
    "#no missing values so not needed"
   ]
  },
  {
   "cell_type": "code",
   "execution_count": 185,
   "id": "c68af66e",
   "metadata": {},
   "outputs": [
    {
     "data": {
      "text/plain": [
       "(14620, 8)"
      ]
     },
     "execution_count": 185,
     "metadata": {},
     "output_type": "execute_result"
    }
   ],
   "source": [
    "dataset.shape"
   ]
  },
  {
   "cell_type": "code",
   "execution_count": 29,
   "id": "ccc036d0",
   "metadata": {},
   "outputs": [],
   "source": [
    "train = dataset[dataset[\"Date\"]<42680].copy()\n",
    "test= dataset[dataset[\"Date\"]>=42680].copy()\n",
    "# dividing training and testing data into 80-20 ratio"
   ]
  },
  {
   "cell_type": "code",
   "execution_count": 30,
   "id": "ed77849f",
   "metadata": {},
   "outputs": [
    {
     "data": {
      "text/plain": [
       "(12047, 9)"
      ]
     },
     "execution_count": 30,
     "metadata": {},
     "output_type": "execute_result"
    }
   ],
   "source": [
    "train.shape"
   ]
  },
  {
   "cell_type": "code",
   "execution_count": 31,
   "id": "086a71f1",
   "metadata": {},
   "outputs": [
    {
     "data": {
      "text/plain": [
       "(2573, 9)"
      ]
     },
     "execution_count": 31,
     "metadata": {},
     "output_type": "execute_result"
    }
   ],
   "source": [
    "test.shape"
   ]
  },
  {
   "cell_type": "code",
   "execution_count": 32,
   "id": "02910b88",
   "metadata": {},
   "outputs": [],
   "source": [
    "from sklearn.linear_model import LinearRegression\n",
    "reg= LinearRegression()\n",
    "# applying linear regression model"
   ]
  },
  {
   "cell_type": "code",
   "execution_count": 33,
   "id": "b8592a16",
   "metadata": {},
   "outputs": [],
   "source": [
    "prediction = [\"living area\", \"grade of the house\",\"Area of the house(excluding basement)\",\"living_area_renov\",\"number of bathrooms\",\"number of views\"]"
   ]
  },
  {
   "cell_type": "code",
   "execution_count": 34,
   "id": "4e96510f",
   "metadata": {},
   "outputs": [
    {
     "data": {
      "text/html": [
       "<style>#sk-container-id-1 {color: black;background-color: white;}#sk-container-id-1 pre{padding: 0;}#sk-container-id-1 div.sk-toggleable {background-color: white;}#sk-container-id-1 label.sk-toggleable__label {cursor: pointer;display: block;width: 100%;margin-bottom: 0;padding: 0.3em;box-sizing: border-box;text-align: center;}#sk-container-id-1 label.sk-toggleable__label-arrow:before {content: \"▸\";float: left;margin-right: 0.25em;color: #696969;}#sk-container-id-1 label.sk-toggleable__label-arrow:hover:before {color: black;}#sk-container-id-1 div.sk-estimator:hover label.sk-toggleable__label-arrow:before {color: black;}#sk-container-id-1 div.sk-toggleable__content {max-height: 0;max-width: 0;overflow: hidden;text-align: left;background-color: #f0f8ff;}#sk-container-id-1 div.sk-toggleable__content pre {margin: 0.2em;color: black;border-radius: 0.25em;background-color: #f0f8ff;}#sk-container-id-1 input.sk-toggleable__control:checked~div.sk-toggleable__content {max-height: 200px;max-width: 100%;overflow: auto;}#sk-container-id-1 input.sk-toggleable__control:checked~label.sk-toggleable__label-arrow:before {content: \"▾\";}#sk-container-id-1 div.sk-estimator input.sk-toggleable__control:checked~label.sk-toggleable__label {background-color: #d4ebff;}#sk-container-id-1 div.sk-label input.sk-toggleable__control:checked~label.sk-toggleable__label {background-color: #d4ebff;}#sk-container-id-1 input.sk-hidden--visually {border: 0;clip: rect(1px 1px 1px 1px);clip: rect(1px, 1px, 1px, 1px);height: 1px;margin: -1px;overflow: hidden;padding: 0;position: absolute;width: 1px;}#sk-container-id-1 div.sk-estimator {font-family: monospace;background-color: #f0f8ff;border: 1px dotted black;border-radius: 0.25em;box-sizing: border-box;margin-bottom: 0.5em;}#sk-container-id-1 div.sk-estimator:hover {background-color: #d4ebff;}#sk-container-id-1 div.sk-parallel-item::after {content: \"\";width: 100%;border-bottom: 1px solid gray;flex-grow: 1;}#sk-container-id-1 div.sk-label:hover label.sk-toggleable__label {background-color: #d4ebff;}#sk-container-id-1 div.sk-serial::before {content: \"\";position: absolute;border-left: 1px solid gray;box-sizing: border-box;top: 0;bottom: 0;left: 50%;z-index: 0;}#sk-container-id-1 div.sk-serial {display: flex;flex-direction: column;align-items: center;background-color: white;padding-right: 0.2em;padding-left: 0.2em;position: relative;}#sk-container-id-1 div.sk-item {position: relative;z-index: 1;}#sk-container-id-1 div.sk-parallel {display: flex;align-items: stretch;justify-content: center;background-color: white;position: relative;}#sk-container-id-1 div.sk-item::before, #sk-container-id-1 div.sk-parallel-item::before {content: \"\";position: absolute;border-left: 1px solid gray;box-sizing: border-box;top: 0;bottom: 0;left: 50%;z-index: -1;}#sk-container-id-1 div.sk-parallel-item {display: flex;flex-direction: column;z-index: 1;position: relative;background-color: white;}#sk-container-id-1 div.sk-parallel-item:first-child::after {align-self: flex-end;width: 50%;}#sk-container-id-1 div.sk-parallel-item:last-child::after {align-self: flex-start;width: 50%;}#sk-container-id-1 div.sk-parallel-item:only-child::after {width: 0;}#sk-container-id-1 div.sk-dashed-wrapped {border: 1px dashed gray;margin: 0 0.4em 0.5em 0.4em;box-sizing: border-box;padding-bottom: 0.4em;background-color: white;}#sk-container-id-1 div.sk-label label {font-family: monospace;font-weight: bold;display: inline-block;line-height: 1.2em;}#sk-container-id-1 div.sk-label-container {text-align: center;}#sk-container-id-1 div.sk-container {/* jupyter's `normalize.less` sets `[hidden] { display: none; }` but bootstrap.min.css set `[hidden] { display: none !important; }` so we also need the `!important` here to be able to override the default hidden behavior on the sphinx rendered scikit-learn.org. See: https://github.com/scikit-learn/scikit-learn/issues/21755 */display: inline-block !important;position: relative;}#sk-container-id-1 div.sk-text-repr-fallback {display: none;}</style><div id=\"sk-container-id-1\" class=\"sk-top-container\"><div class=\"sk-text-repr-fallback\"><pre>LinearRegression()</pre><b>In a Jupyter environment, please rerun this cell to show the HTML representation or trust the notebook. <br />On GitHub, the HTML representation is unable to render, please try loading this page with nbviewer.org.</b></div><div class=\"sk-container\" hidden><div class=\"sk-item\"><div class=\"sk-estimator sk-toggleable\"><input class=\"sk-toggleable__control sk-hidden--visually\" id=\"sk-estimator-id-1\" type=\"checkbox\" checked><label for=\"sk-estimator-id-1\" class=\"sk-toggleable__label sk-toggleable__label-arrow\">LinearRegression</label><div class=\"sk-toggleable__content\"><pre>LinearRegression()</pre></div></div></div></div></div>"
      ],
      "text/plain": [
       "LinearRegression()"
      ]
     },
     "execution_count": 34,
     "metadata": {},
     "output_type": "execute_result"
    }
   ],
   "source": [
    "reg.fit(train[prediction],train[\"Price\"]) \n",
    "#training prediction data set with Price"
   ]
  },
  {
   "cell_type": "code",
   "execution_count": 35,
   "id": "a9159080",
   "metadata": {},
   "outputs": [],
   "source": [
    "predictions= reg.predict(test[prediction])"
   ]
  },
  {
   "cell_type": "code",
   "execution_count": 36,
   "id": "a4f9a4b7",
   "metadata": {},
   "outputs": [
    {
     "data": {
      "text/plain": [
       "(2573,)"
      ]
     },
     "execution_count": 36,
     "metadata": {},
     "output_type": "execute_result"
    }
   ],
   "source": [
    "predictions.shape\n"
   ]
  },
  {
   "cell_type": "code",
   "execution_count": 37,
   "id": "212e66d0",
   "metadata": {},
   "outputs": [],
   "source": [
    "test[\"predictions\"]=predictions"
   ]
  },
  {
   "cell_type": "code",
   "execution_count": 38,
   "id": "49f4e6c9",
   "metadata": {},
   "outputs": [],
   "source": [
    "test.loc[test[\"predictions\"]<0 ,\"predictions\"]=0\n",
    "# any value in predictions which is less than 0 will be turned into 0"
   ]
  },
  {
   "cell_type": "code",
   "execution_count": 39,
   "id": "209fb897",
   "metadata": {},
   "outputs": [],
   "source": [
    "test[\"predictions\"] = test[\"predictions\"].round()\n",
    "#rounding off the values "
   ]
  },
  {
   "cell_type": "code",
   "execution_count": 40,
   "id": "4b0264a7",
   "metadata": {},
   "outputs": [
    {
     "data": {
      "text/html": [
       "<div>\n",
       "<style scoped>\n",
       "    .dataframe tbody tr th:only-of-type {\n",
       "        vertical-align: middle;\n",
       "    }\n",
       "\n",
       "    .dataframe tbody tr th {\n",
       "        vertical-align: top;\n",
       "    }\n",
       "\n",
       "    .dataframe thead th {\n",
       "        text-align: right;\n",
       "    }\n",
       "</style>\n",
       "<table border=\"1\" class=\"dataframe\">\n",
       "  <thead>\n",
       "    <tr style=\"text-align: right;\">\n",
       "      <th></th>\n",
       "      <th>id</th>\n",
       "      <th>Date</th>\n",
       "      <th>living area</th>\n",
       "      <th>grade of the house</th>\n",
       "      <th>Area of the house(excluding basement)</th>\n",
       "      <th>living_area_renov</th>\n",
       "      <th>number of bathrooms</th>\n",
       "      <th>Price</th>\n",
       "      <th>number of views</th>\n",
       "      <th>predictions</th>\n",
       "    </tr>\n",
       "  </thead>\n",
       "  <tbody>\n",
       "    <tr>\n",
       "      <th>12047</th>\n",
       "      <td>6762810398</td>\n",
       "      <td>42680</td>\n",
       "      <td>4910</td>\n",
       "      <td>10</td>\n",
       "      <td>3580</td>\n",
       "      <td>3280</td>\n",
       "      <td>2.25</td>\n",
       "      <td>1680000</td>\n",
       "      <td>0</td>\n",
       "      <td>1283645.0</td>\n",
       "    </tr>\n",
       "    <tr>\n",
       "      <th>12048</th>\n",
       "      <td>6762810931</td>\n",
       "      <td>42680</td>\n",
       "      <td>4700</td>\n",
       "      <td>11</td>\n",
       "      <td>2660</td>\n",
       "      <td>3770</td>\n",
       "      <td>3.50</td>\n",
       "      <td>1240000</td>\n",
       "      <td>2</td>\n",
       "      <td>1505901.0</td>\n",
       "    </tr>\n",
       "    <tr>\n",
       "      <th>12049</th>\n",
       "      <td>6762811049</td>\n",
       "      <td>42680</td>\n",
       "      <td>4340</td>\n",
       "      <td>11</td>\n",
       "      <td>4340</td>\n",
       "      <td>3430</td>\n",
       "      <td>3.50</td>\n",
       "      <td>1190000</td>\n",
       "      <td>0</td>\n",
       "      <td>1197824.0</td>\n",
       "    </tr>\n",
       "    <tr>\n",
       "      <th>12050</th>\n",
       "      <td>6762811098</td>\n",
       "      <td>42680</td>\n",
       "      <td>4270</td>\n",
       "      <td>10</td>\n",
       "      <td>4270</td>\n",
       "      <td>4190</td>\n",
       "      <td>3.50</td>\n",
       "      <td>1160000</td>\n",
       "      <td>2</td>\n",
       "      <td>1246081.0</td>\n",
       "    </tr>\n",
       "    <tr>\n",
       "      <th>12051</th>\n",
       "      <td>6762811593</td>\n",
       "      <td>42680</td>\n",
       "      <td>2790</td>\n",
       "      <td>9</td>\n",
       "      <td>2790</td>\n",
       "      <td>2650</td>\n",
       "      <td>2.50</td>\n",
       "      <td>982000</td>\n",
       "      <td>0</td>\n",
       "      <td>750462.0</td>\n",
       "    </tr>\n",
       "    <tr>\n",
       "      <th>...</th>\n",
       "      <td>...</td>\n",
       "      <td>...</td>\n",
       "      <td>...</td>\n",
       "      <td>...</td>\n",
       "      <td>...</td>\n",
       "      <td>...</td>\n",
       "      <td>...</td>\n",
       "      <td>...</td>\n",
       "      <td>...</td>\n",
       "      <td>...</td>\n",
       "    </tr>\n",
       "    <tr>\n",
       "      <th>14615</th>\n",
       "      <td>6762830250</td>\n",
       "      <td>42734</td>\n",
       "      <td>1556</td>\n",
       "      <td>7</td>\n",
       "      <td>1556</td>\n",
       "      <td>2250</td>\n",
       "      <td>1.50</td>\n",
       "      <td>221700</td>\n",
       "      <td>0</td>\n",
       "      <td>354719.0</td>\n",
       "    </tr>\n",
       "    <tr>\n",
       "      <th>14616</th>\n",
       "      <td>6762830339</td>\n",
       "      <td>42734</td>\n",
       "      <td>1680</td>\n",
       "      <td>7</td>\n",
       "      <td>1680</td>\n",
       "      <td>1540</td>\n",
       "      <td>2.00</td>\n",
       "      <td>219200</td>\n",
       "      <td>0</td>\n",
       "      <td>373178.0</td>\n",
       "    </tr>\n",
       "    <tr>\n",
       "      <th>14617</th>\n",
       "      <td>6762830618</td>\n",
       "      <td>42734</td>\n",
       "      <td>1070</td>\n",
       "      <td>6</td>\n",
       "      <td>1070</td>\n",
       "      <td>1130</td>\n",
       "      <td>1.00</td>\n",
       "      <td>209000</td>\n",
       "      <td>0</td>\n",
       "      <td>194552.0</td>\n",
       "    </tr>\n",
       "    <tr>\n",
       "      <th>14618</th>\n",
       "      <td>6762830709</td>\n",
       "      <td>42734</td>\n",
       "      <td>1030</td>\n",
       "      <td>6</td>\n",
       "      <td>1030</td>\n",
       "      <td>1420</td>\n",
       "      <td>1.00</td>\n",
       "      <td>205000</td>\n",
       "      <td>0</td>\n",
       "      <td>182902.0</td>\n",
       "    </tr>\n",
       "    <tr>\n",
       "      <th>14619</th>\n",
       "      <td>6762831463</td>\n",
       "      <td>42734</td>\n",
       "      <td>900</td>\n",
       "      <td>6</td>\n",
       "      <td>900</td>\n",
       "      <td>900</td>\n",
       "      <td>1.00</td>\n",
       "      <td>146000</td>\n",
       "      <td>0</td>\n",
       "      <td>167170.0</td>\n",
       "    </tr>\n",
       "  </tbody>\n",
       "</table>\n",
       "<p>2573 rows × 10 columns</p>\n",
       "</div>"
      ],
      "text/plain": [
       "               id   Date  living area  grade of the house   \n",
       "12047  6762810398  42680         4910                  10  \\\n",
       "12048  6762810931  42680         4700                  11   \n",
       "12049  6762811049  42680         4340                  11   \n",
       "12050  6762811098  42680         4270                  10   \n",
       "12051  6762811593  42680         2790                   9   \n",
       "...           ...    ...          ...                 ...   \n",
       "14615  6762830250  42734         1556                   7   \n",
       "14616  6762830339  42734         1680                   7   \n",
       "14617  6762830618  42734         1070                   6   \n",
       "14618  6762830709  42734         1030                   6   \n",
       "14619  6762831463  42734          900                   6   \n",
       "\n",
       "       Area of the house(excluding basement)  living_area_renov   \n",
       "12047                                   3580               3280  \\\n",
       "12048                                   2660               3770   \n",
       "12049                                   4340               3430   \n",
       "12050                                   4270               4190   \n",
       "12051                                   2790               2650   \n",
       "...                                      ...                ...   \n",
       "14615                                   1556               2250   \n",
       "14616                                   1680               1540   \n",
       "14617                                   1070               1130   \n",
       "14618                                   1030               1420   \n",
       "14619                                    900                900   \n",
       "\n",
       "       number of bathrooms    Price  number of views  predictions  \n",
       "12047                 2.25  1680000                0    1283645.0  \n",
       "12048                 3.50  1240000                2    1505901.0  \n",
       "12049                 3.50  1190000                0    1197824.0  \n",
       "12050                 3.50  1160000                2    1246081.0  \n",
       "12051                 2.50   982000                0     750462.0  \n",
       "...                    ...      ...              ...          ...  \n",
       "14615                 1.50   221700                0     354719.0  \n",
       "14616                 2.00   219200                0     373178.0  \n",
       "14617                 1.00   209000                0     194552.0  \n",
       "14618                 1.00   205000                0     182902.0  \n",
       "14619                 1.00   146000                0     167170.0  \n",
       "\n",
       "[2573 rows x 10 columns]"
      ]
     },
     "execution_count": 40,
     "metadata": {},
     "output_type": "execute_result"
    }
   ],
   "source": [
    "test"
   ]
  },
  {
   "cell_type": "code",
   "execution_count": 41,
   "id": "29bc0d16",
   "metadata": {},
   "outputs": [],
   "source": [
    "#now we will find the mean absolute error in our data base\n",
    "from sklearn.metrics import mean_absolute_error\n",
    "error=  mean_absolute_error(test[\"Price\"],test[\"predictions\"])\n",
    "#passing actual values and our predictions\n"
   ]
  },
  {
   "cell_type": "code",
   "execution_count": 42,
   "id": "62eb033a",
   "metadata": {},
   "outputs": [
    {
     "data": {
      "text/plain": [
       "157933.71861640108"
      ]
     },
     "execution_count": 42,
     "metadata": {},
     "output_type": "execute_result"
    }
   ],
   "source": [
    "error\n"
   ]
  },
  {
   "cell_type": "code",
   "execution_count": 47,
   "id": "a4b14853",
   "metadata": {},
   "outputs": [
    {
     "data": {
      "text/plain": [
       "count    1.462000e+04\n",
       "mean     5.389322e+05\n",
       "std      3.675324e+05\n",
       "min      7.800000e+04\n",
       "25%      3.200000e+05\n",
       "50%      4.500000e+05\n",
       "75%      6.450000e+05\n",
       "max      7.700000e+06\n",
       "Name: Price, dtype: float64"
      ]
     },
     "execution_count": 47,
     "metadata": {},
     "output_type": "execute_result"
    }
   ],
   "source": [
    "dataset.describe()[\"Price\"]\n",
    "# your error should be lower than std(standard deviation)"
   ]
  },
  {
   "cell_type": "code",
   "execution_count": 48,
   "id": "d4646fc0",
   "metadata": {},
   "outputs": [],
   "source": [
    "test[\"predictions\"] = predictions"
   ]
  },
  {
   "cell_type": "code",
   "execution_count": 49,
   "id": "cf75ff41",
   "metadata": {},
   "outputs": [
    {
     "data": {
      "text/html": [
       "<div>\n",
       "<style scoped>\n",
       "    .dataframe tbody tr th:only-of-type {\n",
       "        vertical-align: middle;\n",
       "    }\n",
       "\n",
       "    .dataframe tbody tr th {\n",
       "        vertical-align: top;\n",
       "    }\n",
       "\n",
       "    .dataframe thead th {\n",
       "        text-align: right;\n",
       "    }\n",
       "</style>\n",
       "<table border=\"1\" class=\"dataframe\">\n",
       "  <thead>\n",
       "    <tr style=\"text-align: right;\">\n",
       "      <th></th>\n",
       "      <th>id</th>\n",
       "      <th>Date</th>\n",
       "      <th>living area</th>\n",
       "      <th>grade of the house</th>\n",
       "      <th>Area of the house(excluding basement)</th>\n",
       "      <th>living_area_renov</th>\n",
       "      <th>number of bathrooms</th>\n",
       "      <th>Price</th>\n",
       "      <th>number of views</th>\n",
       "      <th>predictions</th>\n",
       "    </tr>\n",
       "  </thead>\n",
       "  <tbody>\n",
       "    <tr>\n",
       "      <th>13028</th>\n",
       "      <td>6762810788</td>\n",
       "      <td>42698</td>\n",
       "      <td>3650</td>\n",
       "      <td>9</td>\n",
       "      <td>1860</td>\n",
       "      <td>3150</td>\n",
       "      <td>3.0</td>\n",
       "      <td>1310000</td>\n",
       "      <td>3</td>\n",
       "      <td>1.211379e+06</td>\n",
       "    </tr>\n",
       "  </tbody>\n",
       "</table>\n",
       "</div>"
      ],
      "text/plain": [
       "               id   Date  living area  grade of the house   \n",
       "13028  6762810788  42698         3650                   9  \\\n",
       "\n",
       "       Area of the house(excluding basement)  living_area_renov   \n",
       "13028                                   1860               3150  \\\n",
       "\n",
       "       number of bathrooms    Price  number of views   predictions  \n",
       "13028                  3.0  1310000                3  1.211379e+06  "
      ]
     },
     "execution_count": 49,
     "metadata": {},
     "output_type": "execute_result"
    }
   ],
   "source": [
    "test[test[\"living area\"]==3650]"
   ]
  },
  {
   "cell_type": "code",
   "execution_count": 50,
   "id": "72a3c59a",
   "metadata": {},
   "outputs": [],
   "source": [
    "errors = (test[\"Price\"] - predictions).abs()"
   ]
  },
  {
   "cell_type": "code",
   "execution_count": 51,
   "id": "69fdde8e",
   "metadata": {},
   "outputs": [],
   "source": [
    "error_by_living_area = errors.groupby(test[\"living area\"]).mean()\n",
    "price_by_living_area = test[\"Price\"].groupby(test[\"living area\"]).mean()\n",
    "error_ratio =  error_by_living_area / price_by_living_area"
   ]
  },
  {
   "cell_type": "code",
   "execution_count": 52,
   "id": "85c23e5a",
   "metadata": {},
   "outputs": [],
   "source": [
    "import numpy as np\n",
    "error_ratio=error_ratio[np.isfinite(error_ratio)]"
   ]
  },
  {
   "cell_type": "code",
   "execution_count": 53,
   "id": "7ea064c6",
   "metadata": {},
   "outputs": [
    {
     "data": {
      "text/plain": [
       "<Axes: ylabel='Frequency'>"
      ]
     },
     "execution_count": 53,
     "metadata": {},
     "output_type": "execute_result"
    },
    {
     "data": {
      "image/png": "[encoded data removed]",
      "text/plain": [
       "<Figure size 640x480 with 1 Axes>"
      ]
     },
     "metadata": {},
     "output_type": "display_data"
    }
   ],
   "source": [
    "error_ratio.plot.hist()"
   ]
  },
  {
   "cell_type": "code",
   "execution_count": 54,
   "id": "85af71a1",
   "metadata": {},
   "outputs": [
    {
     "data": {
      "text/plain": [
       "living area\n",
       "4420    0.000155\n",
       "3750    0.005228\n",
       "3120    0.006687\n",
       "1522    0.015182\n",
       "4160    0.018397\n",
       "          ...   \n",
       "2406    1.182734\n",
       "2251    1.266994\n",
       "3690    1.270175\n",
       "460     1.491640\n",
       "1752    1.778066\n",
       "Name: Price, Length: 463, dtype: float64"
      ]
     },
     "execution_count": 54,
     "metadata": {},
     "output_type": "execute_result"
    }
   ],
   "source": [
    "error_ratio.sort_values()"
   ]
  },
  {
   "cell_type": "code",
   "execution_count": null,
   "id": "1c1aeb3c",
   "metadata": {},
   "outputs": [],
   "source": []
  }
 ],
 "metadata": {
  "kernelspec": {
   "display_name": "Python 3 (ipykernel)",
   "language": "python",
   "name": "python3"
  },
  "language_info": {
   "codemirror_mode": {
    "name": "ipython",
    "version": 3
   },
   "file_extension": ".py",
   "mimetype": "text/x-python",
   "name": "python",
   "nbconvert_exporter": "python",
   "pygments_lexer": "ipython3",
   "version": "3.11.3"
  }
 },
 "nbformat": 4,
 "nbformat_minor": 5
}
